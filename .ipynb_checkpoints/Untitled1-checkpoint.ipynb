{
 "cells": [
  {
   "cell_type": "code",
   "execution_count": 1,
   "metadata": {},
   "outputs": [
    {
     "ename": "SyntaxError",
     "evalue": "unexpected EOF while parsing (<ipython-input-1-25228eaad28e>, line 36)",
     "output_type": "error",
     "traceback": [
      "\u001b[0;36m  File \u001b[0;32m\"<ipython-input-1-25228eaad28e>\"\u001b[0;36m, line \u001b[0;32m36\u001b[0m\n\u001b[0;31m    \u001b[0m\n\u001b[0m    ^\u001b[0m\n\u001b[0;31mSyntaxError\u001b[0m\u001b[0;31m:\u001b[0m unexpected EOF while parsing\n"
     ]
    }
   ],
   "source": [
    "from bs4 import BeautifulSoup\n",
    "import Requests\n",
    "import re ## regular expressions\n",
    "import operator\n",
    "import json\n",
    "from tabulate import tabulate\n",
    "import sys\n",
    "from stop_words import get_stop_words\n",
    "\n",
    "# Get data form Wikipedia\n",
    "wikipedia_api_link = \"https://en.wikipedia.org/w/api.php?format=json&action=query&list=search&srsearch=\"\n",
    "wikipedia_link = \"https://en.wikipedia.org/wiki/\"\n",
    "\n",
    "if(len(sys.argv)<2):\n",
    "    print('Enter valid string')\n",
    "    exit()\n",
    "    \n",
    "string_query= sys.argv[1]\n",
    "\n",
    "if len(argv[2]>2):\n",
    "    search_mode=True\n",
    "else:\n",
    "    search_mode=False\n",
    "\n",
    "# create our URL\n",
    "url = wikipedia_api_link + string_query\n",
    "\n",
    "try:\n",
    "    response = requests.get(url)\n",
    "    data = json.loads(response.content.decode('utf-8'))\n",
    "    \n",
    "    # format this data\n",
    "    wikipedia_page_tag = data['query']['search'][0]['title']\n",
    "    # create new url\n",
    "    url= wikipedia_link + wikipedia_page_tag\n",
    "    \n"
   ]
  },
  {
   "cell_type": "code",
   "execution_count": null,
   "metadata": {},
   "outputs": [],
   "source": []
  }
 ],
 "metadata": {
  "kernelspec": {
   "display_name": "Python 3",
   "language": "python",
   "name": "python3"
  },
  "language_info": {
   "codemirror_mode": {
    "name": "ipython",
    "version": 3
   },
   "file_extension": ".py",
   "mimetype": "text/x-python",
   "name": "python",
   "nbconvert_exporter": "python",
   "pygments_lexer": "ipython3",
   "version": "3.7.0"
  }
 },
 "nbformat": 4,
 "nbformat_minor": 2
}
